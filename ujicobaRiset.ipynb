{
 "cells": [
  {
   "cell_type": "markdown",
   "metadata": {},
   "source": [
    "# Uji Coba Code dari MediaPipe dan FaceNet"
   ]
  },
  {
   "cell_type": "markdown",
   "metadata": {},
   "source": [
    "#### Import Library"
   ]
  },
  {
   "cell_type": "code",
   "execution_count": 3,
   "metadata": {},
   "outputs": [],
   "source": [
    "import cv2\n",
    "import mediapipe as mp\n",
    "import os\n",
    "import dlib\n"
   ]
  },
  {
   "cell_type": "markdown",
   "metadata": {},
   "source": [
    "#### Inisiasi Wajah dan Drawing dari Media Pipe"
   ]
  },
  {
   "cell_type": "code",
   "execution_count": 9,
   "metadata": {},
   "outputs": [],
   "source": [
    "mp_face_mesh = mp.solutions.face_mesh\n",
    "face_mesh = mp_face_mesh.FaceMesh(min_detection_confidence=0.5, min_tracking_confidence=0.5)\n",
    "mp_drawing = mp.solutions.drawing_utils\n",
    "drawing_spec = mp_drawing.DrawingSpec(thickness=1, circle_radius=1, color=(255, 0, 0))  # Warna biru (BGR)\n"
   ]
  },
  {
   "cell_type": "markdown",
   "metadata": {},
   "source": [
    "#### Convert Gambar menjadi Gambar yang ada Face Landmark MediaPipe"
   ]
  },
  {
   "cell_type": "code",
   "execution_count": 11,
   "metadata": {},
   "outputs": [],
   "source": [
    "def process_image(image_path, output_folder):\n",
    "    img = cv2.imread(image_path)\n",
    "    img_rgb = cv2.cvtColor(img, cv2.COLOR_BGR2RGB)\n",
    "    results = face_mesh.process(img_rgb)\n",
    "\n",
    "    if results.multi_face_landmarks:\n",
    "        for face_landmarks in results.multi_face_landmarks:\n",
    "            # Gambar landmark pada wajah (opsional)\n",
    "            mp_drawing.draw_landmarks(img, face_landmarks, mp_face_mesh.FACEMESH_TESSELATION, drawing_spec, drawing_spec)\n",
    "\n",
    "            # Simpan landmark ke dalam file teks\n",
    "            filename = os.path.basename(image_path).split('.')[0] + '.txt'\n",
    "            output_path = os.path.join(output_folder, filename)\n",
    "            with open(output_path, 'w') as f:\n",
    "                for landmark in face_landmarks.landmark:\n",
    "                    f.write(f'{landmark.x} {landmark.y} {landmark.z}\\n')\n",
    "\n",
    "            # Simpan gambar yang telah ditandai (opsional)\n",
    "            output_image_path = os.path.join(output_folder, filename[:-4] + '.jpg')\n",
    "            cv2.imwrite(output_image_path, img)\n",
    "    else:\n",
    "        print(f\"Tidak ada wajah terdeteksi di {image_path}\")"
   ]
  },
  {
   "cell_type": "markdown",
   "metadata": {},
   "source": [
    "#### Eksport Hasil Labelling Dengan MediaPipe"
   ]
  },
  {
   "cell_type": "code",
   "execution_count": 12,
   "metadata": {},
   "outputs": [],
   "source": [
    "dataset_folder = r\"\\program-TA-master\\Dataset\\Test\"\n",
    "output_folder = r\"\\program-TA-master\\Dataset\\Hasil\\TestMediaPipe\"\n",
    "\n",
    "# Pastikan folder output существует\n",
    "os.makedirs(output_folder, exist_ok=True)\n",
    "\n",
    "for filename in os.listdir(dataset_folder):\n",
    "    if filename.endswith(('.jpg', '.png', '.jpeg')):\n",
    "        image_path = os.path.join(dataset_folder, filename)\n",
    "        process_image(image_path, output_folder)"
   ]
  },
  {
   "cell_type": "code",
   "execution_count": 6,
   "metadata": {},
   "outputs": [],
   "source": [
    "# Path ke model dlib (ganti dengan path Anda)\n",
    "predictor_path = \"\\program-TA-master\\Model\\shape_predictor_68_face_landmarks.dat\"  # Sesuaikan dengan path Anda\n",
    "detector = dlib.get_frontal_face_detector() #inisialisasi detector wajah\n",
    "predictor = dlib.shape_predictor(predictor_path) #inisialisasi predictor landmark"
   ]
  },
  {
   "cell_type": "markdown",
   "metadata": {},
   "source": [
    "#### DLIB Dataset"
   ]
  },
  {
   "cell_type": "code",
   "execution_count": 7,
   "metadata": {},
   "outputs": [],
   "source": [
    "def process_image2(image_path, output_folder):\n",
    "    try:\n",
    "        img = cv2.imread(image_path)\n",
    "        if img is None:\n",
    "            print(f\"Error reading image: {image_path}\")\n",
    "            return\n",
    "\n",
    "        gray = cv2.cvtColor(img, cv2.COLOR_BGR2GRAY)\n",
    "        dets = detector(gray, 1)\n",
    "\n",
    "        for det in dets:\n",
    "            x1, y1, x2, y2 = det.left(), det.top(), det.right(), det.bottom()\n",
    "\n",
    "            cv2.rectangle(img, (x1, y1), (x2, y2), (0, 255, 0), 2)  # Gambar bounding box\n",
    "\n",
    "            shape = predictor(gray, det)\n",
    "            for i in range(68):\n",
    "                x = shape.part(i).x\n",
    "                y = shape.part(i).y\n",
    "                cv2.circle(img, (x, y), 2, (0, 255, 255), -1)  # Gambar landmark (kuning)\n",
    "\n",
    "            output_filename = os.path.basename(image_path)\n",
    "            output_path = os.path.join(output_folder, output_filename)\n",
    "            cv2.imwrite(output_path, img)\n",
    "\n",
    "    except Exception as e:\n",
    "        print(f\"Error processing image {image_path}: {e}\")"
   ]
  },
  {
   "cell_type": "code",
   "execution_count": 8,
   "metadata": {},
   "outputs": [],
   "source": [
    "dataset_folder = r\"\\program-TA-master\\Dataset\\Test\"\n",
    "output_folder = r\"\\program-TA-master\\Dataset\\Hasil\\TestDILB\"\n",
    "\n",
    "os.makedirs(output_folder, exist_ok=True)\n",
    "\n",
    "for filename in os.listdir(dataset_folder):\n",
    "    if filename.endswith(('.jpg', '.png', '.jpeg')):\n",
    "        image_path = os.path.join(dataset_folder, filename)\n",
    "        process_image2(image_path, output_folder)"
   ]
  }
 ],
 "metadata": {
  "kernelspec": {
   "display_name": "Python 3",
   "language": "python",
   "name": "python3"
  },
  "language_info": {
   "codemirror_mode": {
    "name": "ipython",
    "version": 3
   },
   "file_extension": ".py",
   "mimetype": "text/x-python",
   "name": "python",
   "nbconvert_exporter": "python",
   "pygments_lexer": "ipython3",
   "version": "3.10.0"
  }
 },
 "nbformat": 4,
 "nbformat_minor": 2
}
